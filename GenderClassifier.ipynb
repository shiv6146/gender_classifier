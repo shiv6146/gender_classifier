{
  "nbformat": 4,
  "nbformat_minor": 0,
  "metadata": {
    "colab": {
      "name": "GenderClassifier.ipynb",
      "version": "0.3.2",
      "provenance": [],
      "include_colab_link": true
    },
    "kernelspec": {
      "name": "python2",
      "display_name": "Python 2"
    }
  },
  "cells": [
    {
      "cell_type": "markdown",
      "metadata": {
        "id": "view-in-github",
        "colab_type": "text"
      },
      "source": [
        "<a href=\"https://colab.research.google.com/github/shiv6146/gender_classifier/blob/master/GenderClassifier.ipynb\" target=\"_parent\"><img src=\"https://colab.research.google.com/assets/colab-badge.svg\" alt=\"Open In Colab\"/></a>"
      ]
    },
    {
      "metadata": {
        "id": "2EXu8PIguyBo",
        "colab_type": "code",
        "colab": {
          "base_uri": "https://localhost:8080/",
          "height": 170
        },
        "outputId": "d6d3ef49-ff58-48f3-f324-4ddfbc2024f4"
      },
      "cell_type": "code",
      "source": [
        "import pandas\n",
        "from sklearn import tree, preprocessing\n",
        "from sklearn.svm import LinearSVC\n",
        "from sklearn.linear_model import Perceptron\n",
        "from sklearn.neighbors import KNeighborsClassifier\n",
        "from sklearn.metrics import accuracy_score\n",
        "import numpy as np\n",
        "\n",
        "# Reading dataset\n",
        "dataset = 'https://raw.githubusercontent.com/shiv6146/gender_classifier/master/Transformed%20Data%20Set%20-%20Sheet1.csv'\n",
        "df = pandas.read_csv(dataset)\n",
        "\n",
        "# Initialize data preprocessor\n",
        "label_encoder = preprocessing.LabelEncoder()\n",
        "\n",
        "# Initializing the classifiers\n",
        "tree_classifier = tree.DecisionTreeClassifier()\n",
        "sv_classifier = LinearSVC()\n",
        "pcpt_classifier = Perceptron()\n",
        "kn_classifier = KNeighborsClassifier()\n",
        "\n",
        "# Feature names\n",
        "features = [df.columns[col] for col in xrange(len(df.columns)-1)]\n",
        "\n",
        "# Encode feature names and construct rows of features from the dataset\n",
        "X = [label_encoder.fit_transform(df.iloc[i][:df.iloc[i].size-1].tolist()).tolist() for i in xrange(df.last_valid_index()+1)]\n",
        "# Target class names\n",
        "Y = df.Gender.tolist()\n",
        "\n",
        "# Train your data to match features into targets\n",
        "tree_classifier.fit(X, Y)\n",
        "sv_classifier.fit(X, Y)\n",
        "pcpt_classifier.fit(X, Y)\n",
        "kn_classifier.fit(X, Y)\n",
        "\n",
        "# Evaluate accuracy of each classifier by testing it against the same dataset and matching with its target\n",
        "tree_pred = tree_classifier.predict(X)\n",
        "tree_score = accuracy_score(Y, tree_pred)\n",
        "print \"Accuracy for Decision tree: \" + str(tree_score*100)\n",
        "\n",
        "sv_pred = sv_classifier.predict(X)\n",
        "sv_score = accuracy_score(Y, sv_pred)\n",
        "print \"Accuracy for Linear Support Vector classifier: \" + str(sv_score*100)\n",
        "\n",
        "pcpt_pred = pcpt_classifier.predict(X)\n",
        "pcpt_score = accuracy_score(Y, pcpt_pred)\n",
        "print \"Accuracy for Perceptron Linear Model classifier: \" + str(pcpt_score*100)\n",
        "\n",
        "kn_pred = kn_classifier.predict(X)\n",
        "kn_score = accuracy_score(Y, kn_pred)\n",
        "print \"Accuracy for KNeighbours classifier: \" + str(kn_score*100)\n",
        "\n",
        "# Select the classifier with highest accuracy score\n",
        "scores = [tree_score, sv_score, pcpt_score, kn_score]\n",
        "classifiers = [tree_classifier, sv_classifier, pcpt_classifier, kn_classifier]\n",
        "best_classifier = classifiers[np.argmax(scores)]\n",
        "\n",
        "# Get user input data and make prediction\n",
        "user_input = []\n",
        "\n",
        "for col in features:\n",
        "    user_input.append(str(raw_input(\"What's your \" + col + \" : \")))\n",
        "\n",
        "prediction = best_classifier.predict([label_encoder.fit_transform(user_input).tolist()])\n",
        "\n",
        "print 'Umm! I guess you must be a Male.' if prediction[0] == 'M' else 'Umm! I guess you must be a Female.'"
      ],
      "execution_count": 13,
      "outputs": [
        {
          "output_type": "stream",
          "text": [
            "Accuracy for Decision tree: 74.24242424242425\n",
            "Accuracy for Linear Support Vector classifier: 63.63636363636363\n",
            "Accuracy for Perceptron Linear Model classifier: 50.0\n",
            "Accuracy for KNeighbours classifier: 63.63636363636363\n",
            "What's your Favorite Color : Warm\n",
            "What's your Favorite Music Genre : Rock\n",
            "What's your Favorite Beverage : Beer\n",
            "What's your Favorite Soft Drink : Pepsi\n",
            "Umm! I guess you must be a Male.\n"
          ],
          "name": "stdout"
        }
      ]
    }
  ]
}